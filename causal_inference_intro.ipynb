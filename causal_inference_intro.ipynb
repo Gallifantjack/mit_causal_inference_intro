{
 "cells": [
  {
   "cell_type": "code",
   "execution_count": 1,
   "metadata": {},
   "outputs": [
    {
     "name": "stdout",
     "output_type": "stream",
     "text": [
      "\u001b[31mModule aliases imported by init_notebook.py:\n",
      "--------------------------------------------\n",
      "\u001b[32mimport\u001b[34m arviz \u001b[32mas\u001b[34m az\n",
      "\n",
      "\u001b[32mimport\u001b[34m numpy \u001b[32mas\u001b[34m np\n",
      "\n",
      "\u001b[32mimport\u001b[34m pandas \u001b[32mas\u001b[34m pd\n",
      "\n",
      "\u001b[32mimport\u001b[34m pymc \u001b[32mas\u001b[34m pm\n",
      "\n",
      "\u001b[32mimport\u001b[34m statsmodels.formula.api \u001b[32mas\u001b[34m smf\n",
      "\n",
      "\u001b[32mimport\u001b[34m xarray \u001b[32mas\u001b[34m xr\n",
      "\n",
      "\u001b[32mfrom\u001b[34m matplotlib \u001b[32mimport\u001b[34m pyplot \u001b[32mas\u001b[34m plt\n",
      "\n",
      "\u001b[32mfrom\u001b[34m scipy \u001b[32mimport\u001b[34m stats \u001b[32mas\u001b[34m stats\n",
      "\n",
      "\u001b[32mimport\u001b[34m utils \u001b[32mas\u001b[34m utils\n",
      "\n",
      "\u001b[31mWatermark:\n",
      "----------\n",
      "\u001b[34mLast updated: 2023-09-26T21:37:29.556267-04:00\n",
      "\n",
      "Python implementation: CPython\n",
      "Python version       : 3.10.12\n",
      "IPython version      : 8.15.0\n",
      "\n",
      "Compiler    : Clang 15.0.7 \n",
      "OS          : Darwin\n",
      "Release     : 22.6.0\n",
      "Machine     : arm64\n",
      "Processor   : arm\n",
      "CPU cores   : 8\n",
      "Architecture: 64bit\n",
      "\n",
      "\u001b[34mxarray     : 2023.8.0\n",
      "pymc       : 5.8.0\n",
      "matplotlib : 3.7.2\n",
      "arviz      : 0.16.1\n",
      "numpy      : 1.25.2\n",
      "scipy      : 1.11.2\n",
      "statsmodels: 0.14.0\n",
      "pandas     : 2.1.0\n",
      "\n"
     ]
    }
   ],
   "source": [
    "%run init_notebook.py"
   ]
  },
  {
   "cell_type": "markdown",
   "metadata": {},
   "source": [
    "# Representing Causality"
   ]
  },
  {
   "cell_type": "markdown",
   "metadata": {},
   "source": [
    "- The Fork: $X \\leftarrow Z \\rightarrow Y$\n",
    "- The Pipe: $X \\rightarrow Z \\rightarrow Y$\n",
    "- The Collider: $X \\rightarrow Z \\leftarrow Y$\n",
    "- The Descendant: $X \\rightarrow Z \\rightarrow Y$, $Z \\rightarrow A$\n",
    "\n",
    "![Alt text](image-15.png)"
   ]
  },
  {
   "cell_type": "code",
   "execution_count": 3,
   "metadata": {},
   "outputs": [],
   "source": [
    "\"\"\"Helper functions for displaying elemental confounds\"\"\"\n",
    "\n",
    "def summarize_discrete_counfound_simulation(X, Y, Z):\n",
    "    print(f'Correlation between X and Y: {np.corrcoef(X, Y)[0, 1]:1.2}')\n",
    "    print(\"Cross tabulation:\")\n",
    "    print(utils.crosstab(X, Y, labels=['X', 'Y']))\n",
    "    \n",
    "    for z in [0, 1]:\n",
    "        X_z = X[Z==z]\n",
    "        Y_z = Y[Z==z]\n",
    "        \n",
    "        print(f'\\nCorrelation between X and Y conditioned on Z={z}: {np.corrcoef(X_z, Y_z)[0, 1]:1.2f}')\n",
    "        print(\"Cross tabulation:\")\n",
    "        print(utils.crosstab(X_z, Y_z, labels=['X', 'Y']))\n",
    "        \n",
    "def fit_linear_models_to_simulated_data(data):\n",
    "    models = {}\n",
    "    models['unstratified'] = smf.ols(\"Y ~ X\", data=data).fit()\n",
    "\n",
    "    # Stratified Models\n",
    "    for z in [0, 1]:\n",
    "        models[f'Z={z}'] = smf.ols(\"Y ~ X\", data=data[data.Z==z]).fit()\n",
    "    return models\n",
    "\n",
    "def plot_sms_linear_model_fit(model, xs, label, color):\n",
    "    \"\"\"Helper function to plot linear models\"\"\"\n",
    "    params = model.params\n",
    "    ys = params.Intercept + params.X * xs\n",
    "    return utils.plot_line(xs, ys, label=label, color=color)\n",
    "\n",
    "def plot_continuous_confound_simulation(data, title):\n",
    "    \"\"\"Helper function to plot simulations\"\"\"\n",
    "    models = fit_linear_models_to_simulated_data(data)\n",
    "    plt.subplots(figsize=(6, 6))\n",
    "    \n",
    "    xs = np.linspace(-4, 4, 20)\n",
    "    for z in [0, 1]:\n",
    "        color = f\"C{np.abs(z - 1)}\"  # Note: flip colormap\n",
    "        utils.plot_scatter(data[data.Z==z].X, data[data.Z==z].Y, color=color);\n",
    "        plot_sms_linear_model_fit(models[f'Z={z}'], xs, label=f'Z={z}', color=color)\n",
    "\n",
    "    plot_sms_linear_model_fit(models['unstratified'], xs, label='total sample', color='black')\n",
    "    \n",
    "    plt.xlabel(\"X\")\n",
    "    plt.ylabel(\"Y\")\n",
    "\n",
    "    plt.xlim([-4, 4])\n",
    "    plt.ylim([-4, 4])\n",
    "    plt.legend();\n",
    "    plt.title(title)"
   ]
  },
  {
   "cell_type": "code",
   "execution_count": null,
   "metadata": {},
   "outputs": [],
   "source": []
  }
 ],
 "metadata": {
  "kernelspec": {
   "display_name": "statistical-rethinking-2023",
   "language": "python",
   "name": "python3"
  },
  "language_info": {
   "codemirror_mode": {
    "name": "ipython",
    "version": 3
   },
   "file_extension": ".py",
   "mimetype": "text/x-python",
   "name": "python",
   "nbconvert_exporter": "python",
   "pygments_lexer": "ipython3",
   "version": "3.10.12"
  },
  "orig_nbformat": 4
 },
 "nbformat": 4,
 "nbformat_minor": 2
}
